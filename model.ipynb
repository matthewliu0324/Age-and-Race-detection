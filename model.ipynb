{
  "nbformat": 4,
  "nbformat_minor": 0,
  "metadata": {
    "accelerator": "GPU",
    "colab": {
      "name": "age (1).ipynb",
      "provenance": [],
      "collapsed_sections": [],
      "machine_shape": "hm"
    },
    "kernelspec": {
      "display_name": "Python 3",
      "name": "python3"
    },
    "language_info": {
      "name": "python"
    }
  },
  "cells": [
    {
      "cell_type": "code",
      "metadata": {
        "colab": {
          "base_uri": "https://localhost:8080/"
        },
        "id": "kgJzbfEFwvEs",
        "outputId": "014d00ed-445d-432e-bd93-8044166fb67d"
      },
      "source": [
        "import os\n",
        "from google.colab import drive\n",
        "drive.mount('/content/drive')"
      ],
      "execution_count": 1,
      "outputs": [
        {
          "output_type": "stream",
          "name": "stdout",
          "text": [
            "Mounted at /content/drive\n"
          ]
        }
      ]
    },
    {
      "cell_type": "code",
      "metadata": {
        "id": "iM_5f1To9Rw7"
      },
      "source": [
        "from tensorflow.keras.preprocessing.image import ImageDataGenerator\n",
        "from tensorflow.keras.preprocessing.image import img_to_array\n",
        "from tensorflow.keras.preprocessing.image import load_img\n",
        "from skimage.measure import label,regionprops\n",
        "from sklearn.model_selection import train_test_split\n",
        "from sklearn.metrics import classification_report\n",
        "import matplotlib.pyplot as plt\n",
        "from tensorflow.keras import layers\n",
        "from tensorflow.keras.models import load_model\n",
        "import json\n",
        "import nibabel as nib\n",
        "import tensorflow as tf\n",
        "import cv2\n",
        "import numpy as np \n",
        "import os\n",
        "import skimage.io as io\n",
        "import skimage.transform as trans\n",
        "import numpy as np\n",
        "from keras.models import *\n",
        "from keras.layers import *\n",
        "from keras.optimizers import *\n",
        "from keras.callbacks import ModelCheckpoint, LearningRateScheduler\n",
        "from keras import backend as keras\n",
        "import pandas as pd"
      ],
      "execution_count": 2,
      "outputs": []
    },
    {
      "cell_type": "code",
      "metadata": {
        "id": "So8abIZL8KNM"
      },
      "source": [
        "labels = [\"0-2\", \"3-9\", \"10-20\", \"21-25\", \"26-27\", \"28-31\", \"32-36\", \"37-45\", \"46-54\", \"55-65\", \"66-116\"]\n",
        "train_data = []\n",
        "train_labels = []\n",
        "test_data = []\n",
        "test_labels = []\n",
        "EPOCHS = 50\n",
        "BS = 512"
      ],
      "execution_count": 3,
      "outputs": []
    },
    {
      "cell_type": "code",
      "metadata": {
        "id": "6P4pZ-uS8h7h"
      },
      "source": [
        "train_df = pd.read_csv(\"/content/drive/My Drive/csvs/images_filenames_labels_train_augmented.csv\")\n",
        "test_df = pd.read_csv(\"/content/drive/My Drive/csvs/images_filenames_labels_test.csv\")"
      ],
      "execution_count": 4,
      "outputs": []
    },
    {
      "cell_type": "code",
      "metadata": {
        "id": "kgAtUrObR4ys"
      },
      "source": [
        "train_df[\"target\"] = train_df[\"target\"].astype(\"string\")\n",
        "test_df[\"target\"] = test_df[\"target\"].astype(\"string\")"
      ],
      "execution_count": 5,
      "outputs": []
    },
    {
      "cell_type": "code",
      "metadata": {
        "id": "cWcSoixrFPIH"
      },
      "source": [
        "aug = ImageDataGenerator()"
      ],
      "execution_count": 6,
      "outputs": []
    },
    {
      "cell_type": "code",
      "metadata": {
        "id": "e9g4Z6ZCH0u3"
      },
      "source": [
        "model = tf.keras.Sequential([\n",
        "    tf.keras.layers.Input(shape=(200,200,1)),\n",
        "    tf.keras.layers.Conv2D(32, 3, activation = 'relu', kernel_initializer = 'he_normal'),\n",
        "    tf.keras.layers.MaxPooling2D(pool_size=(2,2)),\n",
        "    tf.keras.layers.BatchNormalization(),\n",
        "    tf.keras.layers.Conv2D(64, 3, activation = 'relu', kernel_initializer = 'he_normal'),\n",
        "    tf.keras.layers.MaxPooling2D(pool_size=(2,2)),\n",
        "    tf.keras.layers.BatchNormalization(),\n",
        "    tf.keras.layers.Conv2D(128, 3, activation = 'relu', kernel_initializer = 'he_normal'),\n",
        "    tf.keras.layers.MaxPooling2D(pool_size=(2,2)),\n",
        "    tf.keras.layers.BatchNormalization(),\n",
        "    tf.keras.layers.Conv2D(256, 2, activation = 'relu', kernel_initializer = 'he_normal'),\n",
        "    tf.keras.layers.MaxPooling2D(pool_size=(2,2)),\n",
        "    tf.keras.layers.BatchNormalization(),\n",
        "    tf.keras.layers.Conv2D(512, 2, activation = 'relu', kernel_initializer = 'he_normal'),\n",
        "    tf.keras.layers.MaxPooling2D(pool_size=(2,2)),\n",
        "    tf.keras.layers.BatchNormalization(),                          \n",
        "    tf.keras.layers.Flatten(),\n",
        "    tf.keras.layers.Dense(512, activation='relu'),\n",
        "    tf.keras.layers.Dropout(0.3),\n",
        "    tf.keras.layers.Dense(128, activation='relu'),\n",
        "    tf.keras.layers.Dropout(0.3),\n",
        "    tf.keras.layers.Dense(11, activation='softmax') \n",
        "])\n"
      ],
      "execution_count": 7,
      "outputs": []
    },
    {
      "cell_type": "code",
      "metadata": {
        "colab": {
          "base_uri": "https://localhost:8080/"
        },
        "id": "MH7I50vh5d1e",
        "outputId": "77affc8b-ba41-47a0-929e-bc43e9acb66b"
      },
      "source": [
        "print(model.summary())"
      ],
      "execution_count": null,
      "outputs": [
        {
          "name": "stdout",
          "output_type": "stream",
          "text": [
            "Model: \"sequential_7\"\n",
            "_________________________________________________________________\n",
            "Layer (type)                 Output Shape              Param #   \n",
            "=================================================================\n",
            "conv2d_40 (Conv2D)           (None, 198, 198, 32)      320       \n",
            "_________________________________________________________________\n",
            "max_pooling2d_35 (MaxPooling (None, 99, 99, 32)        0         \n",
            "_________________________________________________________________\n",
            "batch_normalization_12 (Batc (None, 99, 99, 32)        128       \n",
            "_________________________________________________________________\n",
            "conv2d_41 (Conv2D)           (None, 97, 97, 64)        18496     \n",
            "_________________________________________________________________\n",
            "max_pooling2d_36 (MaxPooling (None, 48, 48, 64)        0         \n",
            "_________________________________________________________________\n",
            "batch_normalization_13 (Batc (None, 48, 48, 64)        256       \n",
            "_________________________________________________________________\n",
            "conv2d_42 (Conv2D)           (None, 46, 46, 128)       73856     \n",
            "_________________________________________________________________\n",
            "max_pooling2d_37 (MaxPooling (None, 23, 23, 128)       0         \n",
            "_________________________________________________________________\n",
            "batch_normalization_14 (Batc (None, 23, 23, 128)       512       \n",
            "_________________________________________________________________\n",
            "conv2d_43 (Conv2D)           (None, 22, 22, 256)       131328    \n",
            "_________________________________________________________________\n",
            "max_pooling2d_38 (MaxPooling (None, 11, 11, 256)       0         \n",
            "_________________________________________________________________\n",
            "batch_normalization_15 (Batc (None, 11, 11, 256)       1024      \n",
            "_________________________________________________________________\n",
            "conv2d_44 (Conv2D)           (None, 10, 10, 512)       524800    \n",
            "_________________________________________________________________\n",
            "max_pooling2d_39 (MaxPooling (None, 5, 5, 512)         0         \n",
            "_________________________________________________________________\n",
            "flatten_5 (Flatten)          (None, 12800)             0         \n",
            "_________________________________________________________________\n",
            "dense_21 (Dense)             (None, 256)               3277056   \n",
            "_________________________________________________________________\n",
            "dropout_18 (Dropout)         (None, 256)               0         \n",
            "_________________________________________________________________\n",
            "dense_22 (Dense)             (None, 11)                2827      \n",
            "=================================================================\n",
            "Total params: 4,030,603\n",
            "Trainable params: 4,029,643\n",
            "Non-trainable params: 960\n",
            "_________________________________________________________________\n",
            "None\n"
          ]
        }
      ]
    },
    {
      "cell_type": "code",
      "metadata": {
        "id": "Y3X7nnMsKrD5"
      },
      "source": [
        "model.compile(optimizer=tf.keras.optimizers.Adam(learning_rate = 1e-4), loss='sparse_categorical_crossentropy', metrics=[\"accuracy\"])"
      ],
      "execution_count": 8,
      "outputs": []
    },
    {
      "cell_type": "code",
      "metadata": {
        "id": "g007aOrgKzxE"
      },
      "source": [
        "model.save_weights(\"/content/drive/My Drive/ages.h5\")"
      ],
      "execution_count": null,
      "outputs": []
    },
    {
      "cell_type": "code",
      "metadata": {
        "id": "REXl1QBWIdyV",
        "colab": {
          "base_uri": "https://localhost:8080/"
        },
        "outputId": "1f16509f-910a-4bcb-e67f-8225fec563a0"
      },
      "source": [
        "model.load_weights(\"/content/drive/My Drive/age_checkpoint\")"
      ],
      "execution_count": 9,
      "outputs": [
        {
          "output_type": "execute_result",
          "data": {
            "text/plain": [
              "<tensorflow.python.training.tracking.util.CheckpointLoadStatus at 0x7f41103a3350>"
            ]
          },
          "metadata": {},
          "execution_count": 9
        }
      ]
    },
    {
      "cell_type": "code",
      "metadata": {
        "id": "6ioGY1R_LQXi"
      },
      "source": [
        "model_checkpoint_callback = tf.keras.callbacks.ModelCheckpoint(\n",
        "    filepath=\"/content/drive/My Drive/age_checkpoint\",\n",
        "    save_weights_only=True,\n",
        "    monitor='val_accuracy',\n",
        "    mode='max',\n",
        "    save_best_only=True)"
      ],
      "execution_count": null,
      "outputs": []
    },
    {
      "cell_type": "code",
      "metadata": {
        "colab": {
          "base_uri": "https://localhost:8080/"
        },
        "id": "HLbxrlh9LDEh",
        "outputId": "db54ff98-84ac-45cc-baf5-eb248bd9d03d"
      },
      "source": [
        "model.fit(aug.flow_from_dataframe(train_df, x_col='filename', y_col='target', target_size=(200,200), color_mode='grayscale', class_mode=\"sparse\", batch_size=BS),\n",
        "     validation_data=aug.flow_from_dataframe(test_df, x_col='filename', y_col='target', target_size=(200,200), color_mode='grayscale', class_mode=\"sparse\", batch_size=BS),  epochs=EPOCHS,  callbacks=[model_checkpoint_callback])"
      ],
      "execution_count": null,
      "outputs": [
        {
          "output_type": "stream",
          "name": "stdout",
          "text": [
            "Found 234400 validated image filenames belonging to 11 classes.\n",
            "Found 10046 validated image filenames belonging to 11 classes.\n",
            "Epoch 1/50\n",
            "458/458 [==============================] - 484s 1s/step - loss: 1.8908 - accuracy: 0.2976 - val_loss: 1.5772 - val_accuracy: 0.4030\n",
            "Epoch 2/50\n",
            "458/458 [==============================] - 475s 1s/step - loss: 1.5527 - accuracy: 0.3960 - val_loss: 1.4021 - val_accuracy: 0.4634\n",
            "Epoch 3/50\n",
            "458/458 [==============================] - 477s 1s/step - loss: 1.4115 - accuracy: 0.4448 - val_loss: 1.2401 - val_accuracy: 0.5219\n",
            "Epoch 4/50\n",
            "458/458 [==============================] - 477s 1s/step - loss: 1.3043 - accuracy: 0.4844 - val_loss: 1.1378 - val_accuracy: 0.5655\n",
            "Epoch 5/50\n",
            "458/458 [==============================] - 482s 1s/step - loss: 1.2104 - accuracy: 0.5198 - val_loss: 1.0627 - val_accuracy: 0.5984\n",
            "Epoch 6/50\n",
            "458/458 [==============================] - 487s 1s/step - loss: 1.1184 - accuracy: 0.5570 - val_loss: 0.9704 - val_accuracy: 0.6464\n",
            "Epoch 7/50\n",
            "458/458 [==============================] - 486s 1s/step - loss: 1.0287 - accuracy: 0.5935 - val_loss: 0.9003 - val_accuracy: 0.6780\n",
            "Epoch 8/50\n",
            "458/458 [==============================] - 486s 1s/step - loss: 0.9355 - accuracy: 0.6342 - val_loss: 0.8149 - val_accuracy: 0.7215\n",
            "Epoch 9/50\n",
            "458/458 [==============================] - 490s 1s/step - loss: 0.8455 - accuracy: 0.6728 - val_loss: 0.7283 - val_accuracy: 0.7572\n",
            "Epoch 10/50\n",
            "458/458 [==============================] - 478s 1s/step - loss: 0.7533 - accuracy: 0.7111 - val_loss: 0.6823 - val_accuracy: 0.7806\n",
            "Epoch 11/50\n",
            "458/458 [==============================] - 478s 1s/step - loss: 0.6666 - accuracy: 0.7482 - val_loss: 0.6267 - val_accuracy: 0.8096\n",
            "Epoch 12/50\n",
            "458/458 [==============================] - 481s 1s/step - loss: 0.5838 - accuracy: 0.7823 - val_loss: 0.5935 - val_accuracy: 0.8311\n",
            "Epoch 13/50\n",
            "458/458 [==============================] - 475s 1s/step - loss: 0.5088 - accuracy: 0.8125 - val_loss: 0.5740 - val_accuracy: 0.8393\n",
            "Epoch 14/50\n",
            "458/458 [==============================] - 474s 1s/step - loss: 0.4391 - accuracy: 0.8405 - val_loss: 0.5391 - val_accuracy: 0.8583\n",
            "Epoch 15/50\n",
            "458/458 [==============================] - 474s 1s/step - loss: 0.3769 - accuracy: 0.8644 - val_loss: 0.5509 - val_accuracy: 0.8623\n",
            "Epoch 16/50\n",
            "458/458 [==============================] - 473s 1s/step - loss: 0.3272 - accuracy: 0.8846 - val_loss: 0.5350 - val_accuracy: 0.8718\n",
            "Epoch 17/50\n",
            "458/458 [==============================] - 474s 1s/step - loss: 0.2835 - accuracy: 0.9012 - val_loss: 0.5413 - val_accuracy: 0.8729\n",
            "Epoch 18/50\n",
            "458/458 [==============================] - 472s 1s/step - loss: 0.2506 - accuracy: 0.9135 - val_loss: 0.5518 - val_accuracy: 0.8769\n",
            "Epoch 19/50\n",
            "458/458 [==============================] - 485s 1s/step - loss: 0.2223 - accuracy: 0.9241 - val_loss: 0.5663 - val_accuracy: 0.8800\n",
            "Epoch 20/50\n",
            "458/458 [==============================] - 473s 1s/step - loss: 0.2001 - accuracy: 0.9318 - val_loss: 0.5766 - val_accuracy: 0.8758\n",
            "Epoch 21/50\n",
            "458/458 [==============================] - 474s 1s/step - loss: 0.1821 - accuracy: 0.9387 - val_loss: 0.5819 - val_accuracy: 0.8806\n",
            "Epoch 22/50\n",
            "458/458 [==============================] - 474s 1s/step - loss: 0.1667 - accuracy: 0.9445 - val_loss: 0.5754 - val_accuracy: 0.8871\n",
            "Epoch 23/50\n",
            "458/458 [==============================] - 476s 1s/step - loss: 0.1561 - accuracy: 0.9481 - val_loss: 0.5717 - val_accuracy: 0.8881\n",
            "Epoch 24/50\n",
            "458/458 [==============================] - 480s 1s/step - loss: 0.1461 - accuracy: 0.9514 - val_loss: 0.5925 - val_accuracy: 0.8864\n",
            "Epoch 25/50\n",
            "458/458 [==============================] - 475s 1s/step - loss: 0.1362 - accuracy: 0.9556 - val_loss: 0.6161 - val_accuracy: 0.8874\n",
            "Epoch 26/50\n",
            "458/458 [==============================] - 483s 1s/step - loss: 0.1276 - accuracy: 0.9577 - val_loss: 0.5929 - val_accuracy: 0.8834\n",
            "Epoch 27/50\n",
            "458/458 [==============================] - 479s 1s/step - loss: 0.1233 - accuracy: 0.9595 - val_loss: 0.6129 - val_accuracy: 0.8886\n",
            "Epoch 28/50\n",
            "458/458 [==============================] - 476s 1s/step - loss: 0.1174 - accuracy: 0.9618 - val_loss: 0.6259 - val_accuracy: 0.8859\n",
            "Epoch 29/50\n",
            "458/458 [==============================] - 474s 1s/step - loss: 0.1129 - accuracy: 0.9629 - val_loss: 0.6706 - val_accuracy: 0.8821\n",
            "Epoch 30/50\n",
            "458/458 [==============================] - 475s 1s/step - loss: 0.1096 - accuracy: 0.9638 - val_loss: 0.6401 - val_accuracy: 0.8881\n",
            "Epoch 31/50\n",
            "458/458 [==============================] - 474s 1s/step - loss: 0.1058 - accuracy: 0.9648 - val_loss: 0.6326 - val_accuracy: 0.8865\n",
            "Epoch 32/50\n",
            "458/458 [==============================] - 475s 1s/step - loss: 0.1024 - accuracy: 0.9660 - val_loss: 0.6736 - val_accuracy: 0.8858\n",
            "Epoch 33/50\n",
            "458/458 [==============================] - 479s 1s/step - loss: 0.0979 - accuracy: 0.9676 - val_loss: 0.6617 - val_accuracy: 0.8863\n",
            "Epoch 34/50\n",
            "458/458 [==============================] - 480s 1s/step - loss: 0.0944 - accuracy: 0.9687 - val_loss: 0.6432 - val_accuracy: 0.8890\n",
            "Epoch 35/50\n",
            "458/458 [==============================] - 476s 1s/step - loss: 0.0921 - accuracy: 0.9697 - val_loss: 0.7306 - val_accuracy: 0.8842\n",
            "Epoch 36/50\n",
            "458/458 [==============================] - 476s 1s/step - loss: 0.0894 - accuracy: 0.9697 - val_loss: 0.6661 - val_accuracy: 0.8885\n",
            "Epoch 37/50\n",
            "458/458 [==============================] - 476s 1s/step - loss: 0.0878 - accuracy: 0.9705 - val_loss: 0.6585 - val_accuracy: 0.8904\n",
            "Epoch 38/50\n",
            "458/458 [==============================] - 473s 1s/step - loss: 0.0859 - accuracy: 0.9712 - val_loss: 0.6538 - val_accuracy: 0.8880\n",
            "Epoch 39/50\n",
            "458/458 [==============================] - 475s 1s/step - loss: 0.0839 - accuracy: 0.9719 - val_loss: 0.6876 - val_accuracy: 0.8891\n",
            "Epoch 40/50\n",
            "458/458 [==============================] - 474s 1s/step - loss: 0.0796 - accuracy: 0.9733 - val_loss: 0.7099 - val_accuracy: 0.8883\n",
            "Epoch 41/50\n",
            "458/458 [==============================] - 485s 1s/step - loss: 0.0802 - accuracy: 0.9732 - val_loss: 0.7066 - val_accuracy: 0.8894\n",
            "Epoch 42/50\n",
            "458/458 [==============================] - 476s 1s/step - loss: 0.0786 - accuracy: 0.9731 - val_loss: 0.7248 - val_accuracy: 0.8913\n",
            "Epoch 43/50\n",
            "454/458 [============================>.] - ETA: 3s - loss: 0.0776 - accuracy: 0.9736"
          ]
        }
      ]
    },
    {
      "cell_type": "code",
      "metadata": {
        "colab": {
          "base_uri": "https://localhost:8080/"
        },
        "id": "Hgz8LvxmDVfp",
        "outputId": "721eb62b-cfda-4df6-f54b-f0dff7a3be96"
      },
      "source": [
        "model.evaluate(aug.flow_from_dataframe(test_df, x_col='filename', y_col='target', target_size=(200,200), color_mode='grayscale', class_mode=\"sparse\", batch_size=BS))"
      ],
      "execution_count": null,
      "outputs": [
        {
          "output_type": "stream",
          "name": "stdout",
          "text": [
            "Found 10046 validated image filenames belonging to 11 classes.\n",
            "20/20 [==============================] - 65s 2s/step - loss: 0.7248 - accuracy: 0.8913\n"
          ]
        },
        {
          "output_type": "execute_result",
          "data": {
            "text/plain": [
              "[0.7248237133026123, 0.8913000226020813]"
            ]
          },
          "metadata": {},
          "execution_count": 12
        }
      ]
    }
  ]
}